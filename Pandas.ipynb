{
 "cells": [
  {
   "cell_type": "markdown",
   "id": "73d987a2-66c6-45c1-bb34-ea9e875ba677",
   "metadata": {
    "jupyter": {
     "source_hidden": true
    }
   },
   "source": [
    "Introducing Pandas data structures: Series, DataFrames and Index objects.\n"
   ]
  },
  {
   "cell_type": "code",
   "execution_count": 3,
   "id": "8f55ec37-d661-40cc-88fa-dd3450081bfa",
   "metadata": {},
   "outputs": [],
   "source": [
    "import pandas as pd\n",
    "import numpy as np"
   ]
  },
  {
   "cell_type": "code",
   "execution_count": 4,
   "id": "184fdd64-38a3-4a42-84b0-261c5ff05484",
   "metadata": {},
   "outputs": [
    {
     "name": "stdout",
     "output_type": "stream",
     "text": [
      "0     Mon\n",
      "1     Tue\n",
      "2     Wed\n",
      "3    Thur\n",
      "4     Fri\n",
      "dtype: object\n"
     ]
    }
   ],
   "source": [
    "days = pd.Series ([\"Mon\",\"Tue\",\"Wed\",\"Thur\",\"Fri\"])\n",
    "print(days)\n"
   ]
  },
  {
   "cell_type": "code",
   "execution_count": 5,
   "id": "ebbb0507-00b4-4b95-8d11-af8dce5f8b13",
   "metadata": {},
   "outputs": [
    {
     "name": "stdout",
     "output_type": "stream",
     "text": [
      "['Mon' 'Tue' 'Wed' 'Thur' 'Fri']\n"
     ]
    }
   ],
   "source": [
    "# creating Series with a numpy array\n",
    "day_list = np.array([\"Mon\",\"Tue\",\"Wed\",\"Thur\",\"Fri\"])\n",
    "numpy_days = pd.Series ([\"Mon\",\"Tue\",\"Wed\",\"Thur\",\"Fri\"])\n",
    "print(day_list)"
   ]
  },
  {
   "cell_type": "code",
   "execution_count": 6,
   "id": "d70df3f4-3a35-491b-a204-9d771990a844",
   "metadata": {},
   "outputs": [
    {
     "name": "stdout",
     "output_type": "stream",
     "text": [
      "a    Mon\n",
      "b    Tue\n",
      "c    Wed\n",
      "dtype: object\n"
     ]
    }
   ],
   "source": [
    "# create Series from a dictionary\n",
    "day1 = pd.Series ({\"a\":\"Mon\", \"b\":\"Tue\",  \"c\":\"Wed\"})\n",
    "print(day1)\n"
   ]
  },
  {
   "cell_type": "code",
   "execution_count": 8,
   "id": "7d4e4064-5c9c-4e55-a8c9-e22820e6ff6d",
   "metadata": {},
   "outputs": [
    {
     "data": {
      "text/plain": [
       "'Mon'"
      ]
     },
     "execution_count": 8,
     "metadata": {},
     "output_type": "execute_result"
    }
   ],
   "source": [
    "# Accessing Series\n",
    "days[0]\n"
   ]
  },
  {
   "cell_type": "code",
   "execution_count": 10,
   "id": "7c9a79b2-f842-48e3-8e23-d3df76c9a58e",
   "metadata": {},
   "outputs": [
    {
     "data": {
      "text/plain": [
       "1     Tue\n",
       "2     Wed\n",
       "3    Thur\n",
       "4     Fri\n",
       "dtype: object"
      ]
     },
     "execution_count": 10,
     "metadata": {},
     "output_type": "execute_result"
    }
   ],
   "source": [
    "days[1:]"
   ]
  },
  {
   "cell_type": "code",
   "execution_count": 11,
   "id": "0bbdc6ec-261c-438c-94c2-9eb5911506ad",
   "metadata": {},
   "outputs": [
    {
     "name": "stdout",
     "output_type": "stream",
     "text": [
      "Empty DataFrame\n",
      "Columns: []\n",
      "Index: []\n"
     ]
    }
   ],
   "source": [
    "# print an emty data frame\n",
    "print (pd.DataFrame())"
   ]
  },
  {
   "cell_type": "code",
   "execution_count": 12,
   "id": "1c46599e-4465-40ca-9a34-45c4b3127a56",
   "metadata": {},
   "outputs": [
    {
     "data": {
      "text/html": [
       "<div>\n",
       "<style scoped>\n",
       "    .dataframe tbody tr th:only-of-type {\n",
       "        vertical-align: middle;\n",
       "    }\n",
       "\n",
       "    .dataframe tbody tr th {\n",
       "        vertical-align: top;\n",
       "    }\n",
       "\n",
       "    .dataframe thead th {\n",
       "        text-align: right;\n",
       "    }\n",
       "</style>\n",
       "<table border=\"1\" class=\"dataframe\">\n",
       "  <thead>\n",
       "    <tr style=\"text-align: right;\">\n",
       "      <th></th>\n",
       "      <th>Country</th>\n",
       "      <th>Capital</th>\n",
       "      <th>Population</th>\n",
       "      <th>Age</th>\n",
       "    </tr>\n",
       "  </thead>\n",
       "  <tbody>\n",
       "    <tr>\n",
       "      <th>2</th>\n",
       "      <td>Ghana</td>\n",
       "      <td>Accra</td>\n",
       "      <td>10000</td>\n",
       "      <td>60</td>\n",
       "    </tr>\n",
       "    <tr>\n",
       "      <th>4</th>\n",
       "      <td>Kenya</td>\n",
       "      <td>Naiobio</td>\n",
       "      <td>85000</td>\n",
       "      <td>50</td>\n",
       "    </tr>\n",
       "    <tr>\n",
       "      <th>6</th>\n",
       "      <td>Nigeria</td>\n",
       "      <td>Abuja</td>\n",
       "      <td>35000</td>\n",
       "      <td>34</td>\n",
       "    </tr>\n",
       "    <tr>\n",
       "      <th>8</th>\n",
       "      <td>Togo</td>\n",
       "      <td>Lome</td>\n",
       "      <td>12000</td>\n",
       "      <td>80</td>\n",
       "    </tr>\n",
       "  </tbody>\n",
       "</table>\n",
       "</div>"
      ],
      "text/plain": [
       "   Country  Capital  Population  Age\n",
       "2    Ghana    Accra       10000   60\n",
       "4    Kenya  Naiobio       85000   50\n",
       "6  Nigeria    Abuja       35000   34\n",
       "8     Togo     Lome       12000   80"
      ]
     },
     "execution_count": 12,
     "metadata": {},
     "output_type": "execute_result"
    }
   ],
   "source": [
    "# create a dataframe from a dictionary\n",
    "\n",
    "df_dict = {'Country':['Ghana','Kenya','Nigeria','Togo'],\n",
    "          'Capital':['Accra','Naiobio','Abuja','Lome'],\n",
    "          'Population':[10000,85000,35000,12000],\n",
    "          'Age':[60,50,34,80]}\n",
    "\n",
    "df = pd.DataFrame(df_dict, index=[2,4,6,8])\n",
    "df\n"
   ]
  },
  {
   "cell_type": "code",
   "execution_count": 13,
   "id": "d4ebf1c6-4b3e-4731-9035-69ca91f399ea",
   "metadata": {},
   "outputs": [
    {
     "data": {
      "text/plain": [
       "Country        Togo\n",
       "Capital        Lome\n",
       "Population    12000\n",
       "Age              80\n",
       "Name: 8, dtype: object"
      ]
     },
     "execution_count": 13,
     "metadata": {},
     "output_type": "execute_result"
    }
   ],
   "source": [
    "# select the row in the at index 3\n",
    "df.iloc[3]"
   ]
  },
  {
   "cell_type": "code",
   "execution_count": 17,
   "id": "98c9ab69-67f8-4767-8ea4-6738262d8110",
   "metadata": {},
   "outputs": [
    {
     "data": {
      "text/plain": [
       "2      Accra\n",
       "4    Naiobio\n",
       "6      Abuja\n",
       "8       Lome\n",
       "Name: Capital, dtype: object"
      ]
     },
     "execution_count": 17,
     "metadata": {},
     "output_type": "execute_result"
    }
   ],
   "source": [
    "df['Capital']"
   ]
  },
  {
   "cell_type": "code",
   "execution_count": 18,
   "id": "1515f9c3-0eb9-40f7-8ed7-8ec733844dcb",
   "metadata": {},
   "outputs": [
    {
     "data": {
      "text/plain": [
       "'Nigeria'"
      ]
     },
     "execution_count": 18,
     "metadata": {},
     "output_type": "execute_result"
    }
   ],
   "source": [
    "df.at[6, 'Country']"
   ]
  },
  {
   "cell_type": "code",
   "execution_count": 19,
   "id": "5da0d483-abc4-428f-9545-ce07a3dd6323",
   "metadata": {},
   "outputs": [
    {
     "data": {
      "text/plain": [
       "'Nigeria'"
      ]
     },
     "execution_count": 19,
     "metadata": {},
     "output_type": "execute_result"
    }
   ],
   "source": [
    "df.iat[2,0]"
   ]
  },
  {
   "cell_type": "code",
   "execution_count": 20,
   "id": "559a0dd5-7c90-4f22-a522-d808b610646c",
   "metadata": {},
   "outputs": [
    {
     "data": {
      "text/plain": [
       "142000"
      ]
     },
     "execution_count": 20,
     "metadata": {},
     "output_type": "execute_result"
    }
   ],
   "source": [
    "df['Population'].sum()"
   ]
  },
  {
   "cell_type": "code",
   "execution_count": 21,
   "id": "a361eb6d-a91e-4d79-828a-456fc93a03bb",
   "metadata": {},
   "outputs": [
    {
     "data": {
      "text/html": [
       "<div>\n",
       "<style scoped>\n",
       "    .dataframe tbody tr th:only-of-type {\n",
       "        vertical-align: middle;\n",
       "    }\n",
       "\n",
       "    .dataframe tbody tr th {\n",
       "        vertical-align: top;\n",
       "    }\n",
       "\n",
       "    .dataframe thead th {\n",
       "        text-align: right;\n",
       "    }\n",
       "</style>\n",
       "<table border=\"1\" class=\"dataframe\">\n",
       "  <thead>\n",
       "    <tr style=\"text-align: right;\">\n",
       "      <th></th>\n",
       "      <th>Population</th>\n",
       "      <th>Age</th>\n",
       "    </tr>\n",
       "  </thead>\n",
       "  <tbody>\n",
       "    <tr>\n",
       "      <th>count</th>\n",
       "      <td>4.000000</td>\n",
       "      <td>4.000000</td>\n",
       "    </tr>\n",
       "    <tr>\n",
       "      <th>mean</th>\n",
       "      <td>35500.000000</td>\n",
       "      <td>56.000000</td>\n",
       "    </tr>\n",
       "    <tr>\n",
       "      <th>std</th>\n",
       "      <td>34895.080838</td>\n",
       "      <td>19.252705</td>\n",
       "    </tr>\n",
       "    <tr>\n",
       "      <th>min</th>\n",
       "      <td>10000.000000</td>\n",
       "      <td>34.000000</td>\n",
       "    </tr>\n",
       "    <tr>\n",
       "      <th>25%</th>\n",
       "      <td>11500.000000</td>\n",
       "      <td>46.000000</td>\n",
       "    </tr>\n",
       "    <tr>\n",
       "      <th>50%</th>\n",
       "      <td>23500.000000</td>\n",
       "      <td>55.000000</td>\n",
       "    </tr>\n",
       "    <tr>\n",
       "      <th>75%</th>\n",
       "      <td>47500.000000</td>\n",
       "      <td>65.000000</td>\n",
       "    </tr>\n",
       "    <tr>\n",
       "      <th>max</th>\n",
       "      <td>85000.000000</td>\n",
       "      <td>80.000000</td>\n",
       "    </tr>\n",
       "  </tbody>\n",
       "</table>\n",
       "</div>"
      ],
      "text/plain": [
       "         Population        Age\n",
       "count      4.000000   4.000000\n",
       "mean   35500.000000  56.000000\n",
       "std    34895.080838  19.252705\n",
       "min    10000.000000  34.000000\n",
       "25%    11500.000000  46.000000\n",
       "50%    23500.000000  55.000000\n",
       "75%    47500.000000  65.000000\n",
       "max    85000.000000  80.000000"
      ]
     },
     "execution_count": 21,
     "metadata": {},
     "output_type": "execute_result"
    }
   ],
   "source": [
    "df.describe()"
   ]
  },
  {
   "cell_type": "markdown",
   "id": "73080957-af2f-4def-96b5-ff81dc9786ca",
   "metadata": {},
   "source": [
    "Pandas represent missing values as NA or NaN which can be filled, removed, and detected with functions like fillna(), dropna(), isnull(), notnull(), replace().\n",
    "\n"
   ]
  },
  {
   "cell_type": "code",
   "execution_count": 22,
   "id": "c7833889-25b3-4a20-a099-033839c57077",
   "metadata": {},
   "outputs": [
    {
     "data": {
      "text/html": [
       "<div>\n",
       "<style scoped>\n",
       "    .dataframe tbody tr th:only-of-type {\n",
       "        vertical-align: middle;\n",
       "    }\n",
       "\n",
       "    .dataframe tbody tr th {\n",
       "        vertical-align: top;\n",
       "    }\n",
       "\n",
       "    .dataframe thead th {\n",
       "        text-align: right;\n",
       "    }\n",
       "</style>\n",
       "<table border=\"1\" class=\"dataframe\">\n",
       "  <thead>\n",
       "    <tr style=\"text-align: right;\">\n",
       "      <th></th>\n",
       "      <th>Names</th>\n",
       "      <th>Profession</th>\n",
       "      <th>Experience</th>\n",
       "      <th>Height</th>\n",
       "    </tr>\n",
       "  </thead>\n",
       "  <tbody>\n",
       "    <tr>\n",
       "      <th>0</th>\n",
       "      <td>Peter</td>\n",
       "      <td>contect creator</td>\n",
       "      <td>12.0</td>\n",
       "      <td>NaN</td>\n",
       "    </tr>\n",
       "    <tr>\n",
       "      <th>1</th>\n",
       "      <td>Simen</td>\n",
       "      <td>Artist</td>\n",
       "      <td>NaN</td>\n",
       "      <td>164.0</td>\n",
       "    </tr>\n",
       "    <tr>\n",
       "      <th>2</th>\n",
       "      <td>Loveth</td>\n",
       "      <td>tailor</td>\n",
       "      <td>5.0</td>\n",
       "      <td>680.0</td>\n",
       "    </tr>\n",
       "    <tr>\n",
       "      <th>3</th>\n",
       "      <td>NaN</td>\n",
       "      <td>singer</td>\n",
       "      <td>6.0</td>\n",
       "      <td>100.0</td>\n",
       "    </tr>\n",
       "  </tbody>\n",
       "</table>\n",
       "</div>"
      ],
      "text/plain": [
       "    Names       Profession  Experience  Height\n",
       "0   Peter  contect creator        12.0     NaN\n",
       "1   Simen           Artist         NaN   164.0\n",
       "2  Loveth           tailor         5.0   680.0\n",
       "3     NaN           singer         6.0   100.0"
      ]
     },
     "execution_count": 22,
     "metadata": {},
     "output_type": "execute_result"
    }
   ],
   "source": [
    "df_dict2={'Names':['Peter','Simen','Loveth',np.nan],\n",
    "         'Profession':['contect creator','Artist','tailor','singer'],\n",
    "         'Experience':[12,np.nan,5,6],\n",
    "         'Height':[np.nan,164,680,100]}\n",
    "new_df=pd.DataFrame(df_dict2)\n",
    "new_df"
   ]
  },
  {
   "cell_type": "code",
   "execution_count": 23,
   "id": "d4947d49-f9c7-46f4-b61f-e826e43e3888",
   "metadata": {},
   "outputs": [
    {
     "data": {
      "text/html": [
       "<div>\n",
       "<style scoped>\n",
       "    .dataframe tbody tr th:only-of-type {\n",
       "        vertical-align: middle;\n",
       "    }\n",
       "\n",
       "    .dataframe tbody tr th {\n",
       "        vertical-align: top;\n",
       "    }\n",
       "\n",
       "    .dataframe thead th {\n",
       "        text-align: right;\n",
       "    }\n",
       "</style>\n",
       "<table border=\"1\" class=\"dataframe\">\n",
       "  <thead>\n",
       "    <tr style=\"text-align: right;\">\n",
       "      <th></th>\n",
       "      <th>Names</th>\n",
       "      <th>Profession</th>\n",
       "      <th>Experience</th>\n",
       "      <th>Height</th>\n",
       "    </tr>\n",
       "  </thead>\n",
       "  <tbody>\n",
       "    <tr>\n",
       "      <th>0</th>\n",
       "      <td>False</td>\n",
       "      <td>False</td>\n",
       "      <td>False</td>\n",
       "      <td>True</td>\n",
       "    </tr>\n",
       "    <tr>\n",
       "      <th>1</th>\n",
       "      <td>False</td>\n",
       "      <td>False</td>\n",
       "      <td>True</td>\n",
       "      <td>False</td>\n",
       "    </tr>\n",
       "    <tr>\n",
       "      <th>2</th>\n",
       "      <td>False</td>\n",
       "      <td>False</td>\n",
       "      <td>False</td>\n",
       "      <td>False</td>\n",
       "    </tr>\n",
       "    <tr>\n",
       "      <th>3</th>\n",
       "      <td>True</td>\n",
       "      <td>False</td>\n",
       "      <td>False</td>\n",
       "      <td>False</td>\n",
       "    </tr>\n",
       "  </tbody>\n",
       "</table>\n",
       "</div>"
      ],
      "text/plain": [
       "   Names  Profession  Experience  Height\n",
       "0  False       False       False    True\n",
       "1  False       False        True   False\n",
       "2  False       False       False   False\n",
       "3   True       False       False   False"
      ]
     },
     "execution_count": 23,
     "metadata": {},
     "output_type": "execute_result"
    }
   ],
   "source": [
    "# checking for cells with missing values as True\n",
    "new_df.isnull()"
   ]
  },
  {
   "cell_type": "code",
   "execution_count": 24,
   "id": "51d4a33f-1ab2-41df-8357-f27f9decba2a",
   "metadata": {},
   "outputs": [
    {
     "data": {
      "text/html": [
       "<div>\n",
       "<style scoped>\n",
       "    .dataframe tbody tr th:only-of-type {\n",
       "        vertical-align: middle;\n",
       "    }\n",
       "\n",
       "    .dataframe tbody tr th {\n",
       "        vertical-align: top;\n",
       "    }\n",
       "\n",
       "    .dataframe thead th {\n",
       "        text-align: right;\n",
       "    }\n",
       "</style>\n",
       "<table border=\"1\" class=\"dataframe\">\n",
       "  <thead>\n",
       "    <tr style=\"text-align: right;\">\n",
       "      <th></th>\n",
       "      <th>Names</th>\n",
       "      <th>Profession</th>\n",
       "      <th>Experience</th>\n",
       "      <th>Height</th>\n",
       "    </tr>\n",
       "  </thead>\n",
       "  <tbody>\n",
       "    <tr>\n",
       "      <th>2</th>\n",
       "      <td>Loveth</td>\n",
       "      <td>tailor</td>\n",
       "      <td>5.0</td>\n",
       "      <td>680.0</td>\n",
       "    </tr>\n",
       "  </tbody>\n",
       "</table>\n",
       "</div>"
      ],
      "text/plain": [
       "    Names Profession  Experience  Height\n",
       "2  Loveth     tailor         5.0   680.0"
      ]
     },
     "execution_count": 24,
     "metadata": {},
     "output_type": "execute_result"
    }
   ],
   "source": [
    "# removing rows with Nan values\n",
    "new_df.dropna()"
   ]
  },
  {
   "cell_type": "code",
   "execution_count": null,
   "id": "3a062cde-92bf-488e-831e-90f1111c6f3e",
   "metadata": {},
   "outputs": [],
   "source": []
  }
 ],
 "metadata": {
  "kernelspec": {
   "display_name": "Python 3 (ipykernel)",
   "language": "python",
   "name": "python3"
  },
  "language_info": {
   "codemirror_mode": {
    "name": "ipython",
    "version": 3
   },
   "file_extension": ".py",
   "mimetype": "text/x-python",
   "name": "python",
   "nbconvert_exporter": "python",
   "pygments_lexer": "ipython3",
   "version": "3.11.7"
  }
 },
 "nbformat": 4,
 "nbformat_minor": 5
}
